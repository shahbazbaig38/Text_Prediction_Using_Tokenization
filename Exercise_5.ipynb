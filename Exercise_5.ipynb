{
  "nbformat": 4,
  "nbformat_minor": 0,
  "metadata": {
    "colab": {
      "provenance": [],
      "collapsed_sections": [],
      "include_colab_link": true
    },
    "kernelspec": {
      "name": "python3",
      "display_name": "Python 3"
    },
    "language_info": {
      "name": "python"
    },
    "accelerator": "GPU"
  },
  "cells": [
    {
      "cell_type": "markdown",
      "metadata": {
        "id": "view-in-github",
        "colab_type": "text"
      },
      "source": [
        "<a href=\"https://colab.research.google.com/github/shahbazbaig38/Text_Prediction_Using_Tokenization/blob/main/Exercise_5.ipynb\" target=\"_parent\"><img src=\"https://colab.research.google.com/assets/colab-badge.svg\" alt=\"Open In Colab\"/></a>"
      ]
    },
    {
      "cell_type": "markdown",
      "source": [
        "# 1. Importing Required Modules"
      ],
      "metadata": {
        "id": "jZIyOM2pvsFP"
      }
    },
    {
      "cell_type": "code",
      "execution_count": null,
      "metadata": {
        "id": "kUrM6ye8uoTw"
      },
      "outputs": [],
      "source": [
        "import tensorflow as tf\n",
        "\n",
        "from tensorflow.keras.preprocessing.sequence import pad_sequences\n",
        "from tensorflow.keras.layers import Embedding, LSTM, Dense, Bidirectional, Dropout\n",
        "from tensorflow.keras.preprocessing.text import Tokenizer\n",
        "from tensorflow.keras.models import Sequential\n",
        "from tensorflow.keras.optimizers import Adam\n",
        "import numpy as np \n",
        "import pandas as pd"
      ]
    },
    {
      "cell_type": "markdown",
      "source": [
        "# 2. Input Data abd Preprocessing"
      ],
      "metadata": {
        "id": "IbPI9Rl1vy0Y"
      }
    },
    {
      "cell_type": "code",
      "source": [
        "tokenizer = Tokenizer()\n",
        "\n",
        "data = pd.read_csv(\"eminem.txt\", sep = \"/n\")\n",
        "corpus = data.to_string().lower().split(\"/n\")\n",
        "\n",
        "tokenizer.fit_on_texts(corpus)\n",
        "total_words = len(tokenizer.word_index) + 1\n",
        "\n",
        "print(tokenizer.word_index)\n",
        "print(total_words)"
      ],
      "metadata": {
        "colab": {
          "base_uri": "https://localhost:8080/"
        },
        "id": "Z2juKx_hvO-b",
        "outputId": "c9b33d71-5e8c-4770-b9c6-75f300949c63"
      },
      "execution_count": null,
      "outputs": [
        {
          "output_type": "stream",
          "name": "stdout",
          "text": [
            "{'the': 1, 'you': 2, 'a': 3, 'i': 4, 'to': 5, 'and': 6, 'in': 7, 'it': 8, \"i'm\": 9, 'but': 10, 'of': 11, 'my': 12, 'that': 13, 'this': 14, 'me': 15, 'get': 16, 'like': 17, 'be': 18, 'better': 19, 'on': 20, 'he': 21, 'with': 22, 'not': 23, 'one': 24, 'what': 25, 'as': 26, 'back': 27, 'only': 28, 'rap': 29, 'all': 30, 'so': 31, 'for': 32, 'do': 33, \"it's\": 34, 'was': 35, 'go': 36, 'your': 37, \"don't\": 38, 'from': 39, 'they': 40, 'is': 41, 'when': 42, 'looking': 43, 'boy': 44, 'never': 45, \"he's\": 46, 'got': 47, 'god': 48, 'let': 49, 'music': 50, 'up': 51, 'if': 52, 'are': 53, 'make': 54, 'shot': 55, 'know': 56, 'off': 57, 'his': 58, 'blow': 59, 'yourself': 60, 'once': 61, 'lose': 62, 'opportunity': 63, 'moment': 64, 'chance': 65, 'can': 66, \"you're\": 67, 'just': 68, 'say': 69, 'still': 70, 'no': 71, 'at': 72, 'goes': 73, 'own': 74, 'feel': 75, 'think': 76, 'nod': 77, 'these': 78, 'how': 79, \"'cause\": 80, 'fuck': 81, 'cause': 82, 'oh': 83, 'miss': 84, 'comes': 85, 'lifetime': 86, 'now': 87, 'while': 88, \"motherfuckin'\": 89, 'fame': 90, 'take': 91, 'too': 92, 'man': 93, 'wanted': 94, 'knows': 95, 'da': 96, 'people': 97, 'front': 98, 'enough': 99, 'slap': 100, 'box': 101, 'made': 102, 'an': 103, \"'em\": 104, 'into': 105, 'time': 106, 'want': 107, 'have': 108, \"that's\": 109, 'way': 110, 'then': 111, 'out': 112, 'through': 113, 'king': 114, \"can't\": 115, 'or': 116, 'look': 117, 'feeling': 118, \"i've\": 119, 'big': 120, 'beginning': 121, 'who': 122, 'arms': 123, 'said': 124, 'call': 125, 'half': 126, 'over': 127, 'bombs': 128, 'hard': 129, 'well': 130, 'school': 131, 'new': 132, 'hey': 133, 'day': 134, 'even': 135, 'though': 136, 'gay': 137, 'face': 138, 'head': 139, 'times': 140, 'gotta': 141, 'there': 142, 'here': 143, 'come': 144, 'normal': 145, 'next': 146, 'more': 147, \"there's\": 148, 'whole': 149, \"won't\": 150, 'home': 151, 'its': 152, 'him': 153, 'life': 154, 'crazy': 155, 'gonna': 156, 'easy': 157, '1': 158, \"something's\": 159, 'slim': 160, 'means': 161, 'trouble': 162, 'taking': 163, 'any': 164, '7': 165, 'thinks': 166, 'their': 167, 'long': 168, 'ever': 169, 'since': 170, 'hell': 171, 'kill': 172, 'hip': 173, 'hop': 174, 'wanna': 175, 'same': 176, \"i'll\": 177, 'fact': 178, '24': 179, 'drop': 180, 'rappers': 181, \"here's\": 182, 'shit': 183, \"ain't\": 184, 'everybody': 185, 'rage': 186, 'hit': 187, 'nothing': 188, 'shoot': 189, 'use': 190, 'rhyme': 191, 'full': 192, 'product': 193, 'doc': 194, 'grow': 195, 'meet': 196, 'run': 197, 'them': 198, 'rock': 199, 'hall': 200, 'walk': 201, 'church': 202, 'flames': 203, '47': 204, 'little': 205, 'barely': 206, 'straight': 207, 'yeah': 208, \"i'mma\": 209, 'everything': 210, 'keep': 211, 'nascar': 212, 'asgard': 213, 'mom': 214, 'we': 215, 'rhymes': 216, 'maybe': 217, 'some': 218, 'hungry': 219, 'where': 220, 'mine': 221, 'trying': 222, 'line': 223, 'put': 224, 'nine': 225, 'see': 226, 'coming': 227, 'fucking': 228, 'ray': 229, 'j': 230, 'mad': 231, 'fab': 232, 'uh': 233, 'lamaa': 234, 'anything': 235, 'give': 236, 'songs': 237, 'words': 238, 'verses': 239, 'myself': 240, 'mind': 241, 'satan': 242, 'heavy': 243, 'women': 244, 'had': 245, 'cake': 246, 'mistake': 247, 'her': 248, 'capture': 249, 'yo': 250, 'world': 251, 'grows': 252, 'harder': 253, 'hoes': 254, 'coast': 255, 'father': 256, 'nose': 257, 'cold': 258, 'water': 259, 'old': 260, 'dumb': 261, 'been': 262, 'inside': 263, 'by': 264, 'has': 265, 'wanting': 266, 'blew': 267, 'hurt': 268, 'feelings': 269, '0': 270, 'going': 271, 'wrong': 272, 'six': 273, 'minutes': 274, 'shady': 275, '2': 276, 'about': 277, 'happen': 278, '3': 279, \"we're\": 280, '4': 281, 'bananas': 282, 'chances': 283, '5': 284, 'were': 285, 'doctor': 286, 'ordered': 287, '6': 288, '8': 289, 'robot': 290, 'rapbot': 291, 'computer': 292, 'must': 293, 'genes': 294, '9': 295, 'laptop': 296, 'pocket': 297, '10': 298, \"pen'll\": 299, 'cock': 300, '11': 301, 'fat': 302, 'knot': 303, 'profit': 304, '12': 305, 'living': 306, 'killing': 307, '13': 308, 'bill': 309, 'clinton': 310, 'office': 311, '14': 312, 'monica': 313, 'lewinsky': 314, 'nut': 315, 'sack': 316, '15': 317, 'mc': 318, 'honest': 319, '16': 320, 'rude': 321, 'indecent': 322, 'syllables': 323, 'killaholic': 324, '17': 325, 'slickety': 326, 'gibbedy': 327, 'hibbedy': 328, '18': 329, 'really': 330, 'pissing': 331, 'match': 332, 'rappidy': 333, '19': 334, 'packing': 335, 'mac': 336, 'ac': 337, 'pack': 338, 'backpack': 339, 'yep': 340, 'yackidy': 341, 'yac': 342, '20': 343, 'exact': 344, 'attempt': 345, 'lyrical': 346, 'acrobat': 347, 'stunts': 348, 'practicing': 349, '21': 350, 'able': 351, 'break': 352, 'table': 353, '22': 354, 'couple': 355, 'faggots': 356, 'crack': 357, '23': 358, 'realized': 359, 'ironic': 360, 'signed': 361, 'aftermath': 362, 'after': 363, 'could': 364, 'f': 365, 'wrath': 366, 'attack': 367, '25': 368, 'having': 369, 'rough': 370, 'period': 371, 'maxipad': 372, '26': 373, 'actually': 374, 'disastrously': 375, 'bad': 376, '27': 377, 'wack': 378, 'masterfully': 379, 'constructing': 380, 'masterpiece': 381, '28': 382, '29': 383, '30': 384, 'show': 385, 'maintaining': 386, 'key': 387, 'secret': 388, 'immortality': 389, '31': 390, 'truthful': 391, \"blueprint's\": 392, 'simply': 393, 'youthful': 394, 'exuberance': 395, '32': 396, 'loves': 397, 'root': 398, 'nuisance': 399, '33': 400, 'earth': 401, 'asteroid': 402, 'did': 403, 'moon': 404, '34': 405, \"mc's\": 406, 'taken': 407, '35': 408, 'vehicle': 409, 'bust': 410, '36': 411, 'lead': 412, 'students': 413, '37': 414, 'rakim': 415, 'lakim': 416, 'shabazz': 417, '2pac': 418, 'n': 419, '38': 420, 'w': 421, 'cube': 422, 'ren': 423, 'yella': 424, 'eazy': 425, 'thank': 426, '39': 427, 'inspired': 428, 'position': 429, '40': 430, 'dmc': 431, 'induct': 432, \"n'\": 433, '41': 434, 'roll': 435, '42': 436, 'burst': 437, 'ball': 438, '43': 439, 'inducted': 440, 'alcohol': 441, '44': 442, 'wall': 443, 'shame': 444, '45': 445, 'fags': 446, 'game': 447, \"'til\": 448, 'flock': 449, '46': 450, 'planking': 451, 'tell': 452, 'thinking': 453, '48': 454, '49': 455, 'witnessing': 456, 'massacre': 457, '50': 458, 'watching': 459, 'gathering': 460, 'place': 461, '51': 462, 'oy': 463, 'vey': 464, \"boy's\": 465, '52': 466, 'thumbs': 467, 'pat': 468, '53': 469, 'label': 470, 'everyday': 471, '54': 472, '55': 473, 'dre': 474, '56': 475, 'work': 476, '57': 477, 'ask': 478, 'nobody': 479, 'outta': 480, '58': 481, 'basically': 482, 'capable': 483, '59': 484, 'pace': 485, '60': 486, '61': 487, 'racing': 488, 'around': 489, 'track': 490, '62': 491, 'dale': 492, 'earnhardt': 493, 'trailer': 494, 'park': 495, 'white': 496, 'trash': 497, '63': 498, 'kneel': 499, 'before': 500, 'general': 501, 'zod': 502, \"planet's\": 503, 'krypton': 504, 'thor': 505, 'odin': 506, 'rodent': 507, 'omnipotent': 508, '64': 509, 'reloading': 510, 'immediately': 511, \"totin'\": 512, '65': 513, 'should': 514, 'woken': 515, '66': 516, 'walking': 517, 'dead': 518, 'talking': 519, 'zombie': 520, 'floating': 521, '67': 522, 'deep': 523, 'throating': 524, '68': 525, 'ramen': 526, 'noodle': 527, 'common': 528, 'poodle': 529, '69': 530, 'doberman': 531, 'pinch': 532, 'arm': 533, 'pay': 534, 'homage': 535, 'pupil': 536, '70': 537, \"honesty's\": 538, 'brutal': 539, '71': 540, 'honestly': 541, 'futile': 542, 'utilize': 543, '72': 544, 'good': 545, 'least': 546, '73': 547, 'sure': 548, 'somewhere': 549, 'chicken': 550, 'scratch': 551, 'scribble': 552, 'doodle': 553, '74': 554, 'try': 555, 'help': 556, 'tough': 557, '75': 558, 'few': 559, 'punchlines': 560, 'case': 561, 'unsigned': 562, '76': 563, 'lunchtime': 564, '77': 565, '78': 566, 'underground': 567, 'pharoahe': 568, 'monch': 569, 'grind': 570, '79': 571, 'crunch': 572, 'sometimes': 573, 'combine': 574, '80': 575, 'appeal': 576, 'skin': 577, 'color': 578, '81': 579, '82': 580, 'censor': 581, 'marshall': 582, 'mathers': 583, 'lp': 584, '83': 585, 'tried': 586, 'seven': 587, 'kids': 588, 'columbine': 589, '84': 590, 'add': 591, 'ak': 592, 'revolver': 593, '85': 594, 'away': 595, '86': 596, 'morphed': 597, 'immortal': 598, 'portal': 599, '87': 600, 'stuck': 601, 'warp': 602, '2004': 603, '88': 604, '89': 605, 'pointless': 606, 'rapunzel': 607, 'cornrows': 608, '90': 609, 'being': 610, '91': 611, 'bought': 612, 'raygun': 613, 'future': 614, '92': 615, 'ya': 616, 'fabolous': 617, '93': 618, 'looked': 619, 'fag': 620, \"maywhether's\": 621, 'pad': 622, '94': 623, \"singin'\": 624, 'played': 625, 'piano': 626, '95': 627, 'special': 628, 'cable': 629, 'channel': 630, '96': 631, 'went': 632, 'radio': 633, 'station': 634, 'very': 635, '97': 636, '98': 637, 'lyrics': 638, 'supersonic': 639, 'speed': 640, 'jj': 641, 'fad': 642, '99': 643, 'sama': 644, 'duma': 645, 'assuming': 646, 'human': 647, '100': 648, 'superhuman': 649, '101': 650, 'innovative': 651, 'rubber': 652, '102': 653, 'saying': 654, 'ricocheting': 655, \"it'll\": 656, 'glue': 657, '103': 658, 'stating': 659, 'than': 660, 'demonstrating': 661, '104': 662, 'audience': 663, 'levitating': 664, '105': 665, 'fading': 666, 'haters': 667, 'forever': 668, 'waiting': 669, '106': 670, 'fell': 671, \"they'd\": 672, 'celebrating': 673, '107': 674, 'motivated': 675, '108': 676, 'elevating': 677, 'elevator': 678, '109': 679, 'mainstream': 680, '110': 681, 'jealous': 682, 'confuse': 683, '111': 684, 'pop': 685, 'found': 686, 'hella': 687, 'fuse': 688, '112': 689, 'shock': 690, '113': 691, 'throw': 692, '114': 693, '115': 694, '116': 695, 'occurs': 696, '117': 697, 'ripping': 698, 'diverse': 699, '118': 700, 'curtains': 701, 'inadvertently': 702, \"hurtin'\": 703, '119': 704, 'many': 705, 'murder': 706, '120': 707, 'prove': 708, 'nice': 709, 'sacrifice': 710, 'virgins': 711, '121': 712, 'flunkie': 713, 'pill': 714, 'junky': 715, '122': 716, 'accolades': 717, 'skills': 718, 'brung': 719, '123': 720, '124': 721, 'bully': 722, '125': 723, 'million': 724, 'leagues': 725, 'above': 726, 'ill': 727, 'speak': 728, 'tongues': 729, '126': 730, 'tongue': 731, 'cheek': 732, '127': 733, 'drunk': 734, 'wheel': 735, 'asleep': 736, 'seat': 737, '128': 738, 'bumping': 739, 'd': 740, 'boys': 741, 'chunky': 742, 'funky': 743, '129': 744, 'something': 745, 'tugging': 746, 'struggling': 747, '130': 748, 'angels': 749, 'fight': 750, 'devils': 751, '131': 752, 'asking': 753, 'eliminate': 754, 'hate': 755, '132': 756, 'consideration': 757, 'bitter': 758, 'hatred': 759, '133': 760, 'may': 761, 'patient': 762, 'sympathetic': 763, 'situation': 764, '134': 765, 'understand': 766, 'discrimination': 767, '135': 768, \"life's\": 769, 'handing': 770, 'lemons': 771, 'lemonade': 772, '136': 773, 'batter': 774, 'am': 775, 'supposed': 776, 'bake': 777, '137': 778, '138': 779, 'fatal': 780, 'need': 781, 'overseas': 782, '139': 783, 'vacation': 784, 'trip': 785, 'broad': 786, '140': 787, 'fall': 788, 'retard': 789, '141': 790, 'why': 791, '142': 792, '143': 793, '144': 794, '145': 795, 'seize': 796, '146': 797, '147': 798, 'would': 799, '148': 800, 'slip': 801, '149': 802, 'palms': 803, 'sweaty': 804, 'knees': 805, 'weak': 806, '150': 807, 'vomit': 808, 'sweater': 809, 'already': 810, \"mom's\": 811, 'spaghetti': 812, '151': 813, 'nervous': 814, 'surface': 815, 'looks': 816, 'calm': 817, 'ready': 818, '152': 819, 'keeps': 820, \"forgettin'\": 821, '153': 822, 'wrote': 823, 'down': 824, 'crowd': 825, 'loud': 826, '154': 827, 'opens': 828, 'mouth': 829, '155': 830, \"chokin'\": 831, \"everybody's\": 832, \"jokin'\": 833, '156': 834, 'clocks': 835, 'blaow': 836, '157': 837, 'snap': 838, 'reality': 839, 'gravity': 840, '158': 841, 'rabbit': 842, 'choked': 843, '159': 844, '160': 845, \"city's\": 846, 'ropes': 847, '161': 848, 'matter': 849, 'dope': 850, 'broke': 851, '162': 852, 'stacked': 853, 'mobile': 854, '163': 855, 'lab': 856, 'again': 857, 'rhapsody': 858, '164': 859, 'hope': 860, 'pass': 861, '165': 862, '166': 863, '167': 864, '168': 865, '169': 866, '170': 867, 'souls': 868, 'escaping': 869, 'hole': 870, 'gaping': 871, '171': 872, '172': 873, 'move': 874, 'toward': 875, 'order': 876, '173': 877, \"borin'\": 878, 'super': 879, \"stardom's\": 880, 'close': 881, 'post': 882, 'mortem': 883, '174': 884, 'hotter': 885, '175': 886, 'blows': 887, 'us': 888, '176': 889, 'shows': 890, 'known': 891, 'globetrotter': 892, '177': 893, 'lonely': 894, 'roads': 895, 'grown': 896, 'farther': 897, '178': 898, 'daughter': 899, '179': 900, 'hold': 901, '180': 902, 'mo': 903, '181': 904, 'moved': 905, 'schmo': 906, 'flows': 907, 'dove': 908, 'sold': 909, 'nada': 910, '182': 911, 'soap': 912, 'opera': 913, 'told': 914, 'unfolds': 915, 'suppose': 916, 'partna': 917, 'beat': 918, '183': 919, '184': 920, '185': 921, '186': 922, '187': 923, '188': 924, '189': 925, 'games': 926, 'change': 927, '190': 928, 'tear': 929, 'roof': 930, 'two': 931, 'dogs': 932, 'caged': 933, '191': 934, \"playin'\": 935, \"beginnin'\": 936, 'mood': 937, 'changed': 938, '192': 939, 'chewed': 940, 'spit': 941, 'booed': 942, 'stage': 943, '193': 944, 'kept': 945, \"rhymin'\": 946, \"stepwritin'\": 947, 'cipher': 948, '194': 949, 'best': 950, 'believe': 951, \"somebody's\": 952, \"payin'\": 953, 'pied': 954, 'piper': 955, '195': 956, 'pain': 957, 'amplified': 958, '196': 959, '197': 960, 'five': 961, 'provide': 962, 'right': 963, 'type': 964, '198': 965, 'family': 966, 'damn': 967, 'food': 968, 'stamps': 969, 'buy': 970, 'diapers': 971, '199': 972, 'movie': 973, 'mekhi': 974, 'phifer': 975, '200': 976, '201': 977, 'getting': 978, \"tryin'\": 979, 'feed': 980, 'seed': 981, 'plus': 982, '202': 983, 'dishonor': 984, 'caught': 985, 'between': 986, \"bein'\": 987, 'prima': 988, 'donna': 989, '203': 990, 'baby': 991, 'mama': 992, 'drama': 993, \"screamin'\": 994, 'much': 995, '204': 996, 'spot': 997, 'another': 998, 'jam': 999, '205': 1000, 'gotten': 1001, 'point': 1002, 'snail': 1003, '206': 1004, 'formulate': 1005, 'plot': 1006, 'fore': 1007, 'end': 1008, 'jail': 1009, '207': 1010, 'success': 1011, 'option': 1012, 'failures': 1013, '208': 1014, 'love': 1015, 'trail': 1016, 'cannot': 1017, \"salem's\": 1018, 'lot': 1019, '209': 1020, '210': 1021, 'feet': 1022, 'fail': 1023, '211': 1024, '212': 1025, '213': 1026, '214': 1027, '215': 1028, '216': 1029, 'set': 1030, 'chorus': 1031, 'rihanna': 1032, '217': 1033, 'friends': 1034, 'monster': 1035, '218': 1036, 'under': 1037, 'bed': 1038, '219': 1039, 'along': 1040, 'voices': 1041, '220': 1042, 'save': 1043, '221': 1044, 'stop': 1045, 'holding': 1046, 'breath': 1047, '222': 1048, '223': 1049, 'eminem': 1050, 'verse': 1051, '224': 1052, 'cover': 1053, 'newsweek': 1054, '225': 1055, 'guess': 1056, 'beggers': 1057, 'choosey': 1058, '226': 1059, 'receive': 1060, 'attention': 1061, '227': 1062, 'left': 1063, 'alone': 1064, 'public': 1065, 'excuse': 1066, '228': 1067, 'eat': 1068, '229': 1069, 'both': 1070, 'ways': 1071, '230': 1072, 'balloon': 1073, 'ego': 1074, 'inflated': 1075, '231': 1076, 'seep': 1077, 'confusing': 1078, '232': 1079, 'bruce': 1080, 'lee': 1081, 'loose': 1082, 'leaf': 1083, '233': 1084, 'abused': 1085, 'ink': 1086, 'used': 1087, 'tool': 1088, 'steam': 1089, '234': 1090, 'lottery': 1091, 'wee': 1092, '235': 1093, 'gave': 1094, 'bittersweet': 1095, '236': 1096, 'winning': 1097, 'huge': 1098}\n",
            "1099\n"
          ]
        },
        {
          "output_type": "stream",
          "name": "stderr",
          "text": [
            "/usr/local/lib/python3.7/dist-packages/pandas/util/_decorators.py:311: ParserWarning: Falling back to the 'python' engine because the 'c' engine does not support regex separators (separators > 1 char and different from '\\s+' are interpreted as regex); you can avoid this warning by specifying engine='python'.\n",
            "  return func(*args, **kwargs)\n"
          ]
        }
      ]
    },
    {
      "cell_type": "code",
      "source": [
        "input_sequences = []\n",
        "for line in corpus:\n",
        "\ttoken_list = tokenizer.texts_to_sequences([line])[0]\n",
        "\tfor i in range(1, len(token_list)):\n",
        "\t\tn_gram_sequence = token_list[:i+1]\n",
        "\t\tinput_sequences.append(n_gram_sequence)\n"
      ],
      "metadata": {
        "id": "wRPvuZu5vP5x"
      },
      "execution_count": null,
      "outputs": []
    },
    {
      "cell_type": "code",
      "source": [
        "# pad sequences \n",
        "max_sequence_len = max([len(x) for x in input_sequences])\n",
        "input_sequences = np.array(pad_sequences(input_sequences, maxlen=max_sequence_len, padding='pre'))"
      ],
      "metadata": {
        "id": "eAjneRFChkid"
      },
      "execution_count": null,
      "outputs": []
    },
    {
      "cell_type": "code",
      "source": [
        "# create predictors and label\n",
        "xs, labels = input_sequences[:,:-1],input_sequences[:,-1]\n",
        "\n",
        "ys = tf.keras.utils.to_categorical(labels, num_classes=total_words)"
      ],
      "metadata": {
        "id": "UWi3baKniZmy"
      },
      "execution_count": null,
      "outputs": []
    },
    {
      "cell_type": "code",
      "source": [
        "print(xs[6])"
      ],
      "metadata": {
        "colab": {
          "base_uri": "https://localhost:8080/"
        },
        "id": "JGi2c5ZuvP8Z",
        "outputId": "b9e0242b-021c-4acf-ca88-86957dbfbdfa"
      },
      "execution_count": null,
      "outputs": [
        {
          "output_type": "stream",
          "name": "stdout",
          "text": [
            "[  0   0   0 ...  36 157  20]\n"
          ]
        }
      ]
    },
    {
      "cell_type": "code",
      "source": [
        "print(ys[6])"
      ],
      "metadata": {
        "colab": {
          "base_uri": "https://localhost:8080/"
        },
        "id": "up0c40-jvP_d",
        "outputId": "7692b747-a349-45e6-b524-358f6210d1c6"
      },
      "execution_count": null,
      "outputs": [
        {
          "output_type": "stream",
          "name": "stdout",
          "text": [
            "[0. 0. 1. ... 0. 0. 0.]\n"
          ]
        }
      ]
    },
    {
      "cell_type": "code",
      "source": [
        "print(xs[5])\n",
        "print(ys[5])"
      ],
      "metadata": {
        "colab": {
          "base_uri": "https://localhost:8080/"
        },
        "id": "ZrC3glpvvZCo",
        "outputId": "a02d6e4c-32a3-49e6-f7fe-47ab0d4b529d"
      },
      "execution_count": null,
      "outputs": [
        {
          "output_type": "stream",
          "name": "stdout",
          "text": [
            "[  0   0   0 ... 156  36 157]\n",
            "[0. 0. 0. ... 0. 0. 0.]\n"
          ]
        }
      ]
    },
    {
      "cell_type": "code",
      "source": [
        "print(tokenizer.word_index)"
      ],
      "metadata": {
        "colab": {
          "base_uri": "https://localhost:8080/"
        },
        "id": "ZQoWe-oxvZFg",
        "outputId": "e7065f38-15d5-4686-8331-9368f5c955cf"
      },
      "execution_count": null,
      "outputs": [
        {
          "output_type": "stream",
          "name": "stdout",
          "text": [
            "{'the': 1, 'you': 2, 'a': 3, 'i': 4, 'to': 5, 'and': 6, 'in': 7, 'it': 8, \"i'm\": 9, 'but': 10, 'of': 11, 'my': 12, 'that': 13, 'this': 14, 'me': 15, 'get': 16, 'like': 17, 'be': 18, 'better': 19, 'on': 20, 'he': 21, 'with': 22, 'not': 23, 'one': 24, 'what': 25, 'as': 26, 'back': 27, 'only': 28, 'rap': 29, 'all': 30, 'so': 31, 'for': 32, 'do': 33, \"it's\": 34, 'was': 35, 'go': 36, 'your': 37, \"don't\": 38, 'from': 39, 'they': 40, 'is': 41, 'when': 42, 'looking': 43, 'boy': 44, 'never': 45, \"he's\": 46, 'got': 47, 'god': 48, 'let': 49, 'music': 50, 'up': 51, 'if': 52, 'are': 53, 'make': 54, 'shot': 55, 'know': 56, 'off': 57, 'his': 58, 'blow': 59, 'yourself': 60, 'once': 61, 'lose': 62, 'opportunity': 63, 'moment': 64, 'chance': 65, 'can': 66, \"you're\": 67, 'just': 68, 'say': 69, 'still': 70, 'no': 71, 'at': 72, 'goes': 73, 'own': 74, 'feel': 75, 'think': 76, 'nod': 77, 'these': 78, 'how': 79, \"'cause\": 80, 'fuck': 81, 'cause': 82, 'oh': 83, 'miss': 84, 'comes': 85, 'lifetime': 86, 'now': 87, 'while': 88, \"motherfuckin'\": 89, 'fame': 90, 'take': 91, 'too': 92, 'man': 93, 'wanted': 94, 'knows': 95, 'da': 96, 'people': 97, 'front': 98, 'enough': 99, 'slap': 100, 'box': 101, 'made': 102, 'an': 103, \"'em\": 104, 'into': 105, 'time': 106, 'want': 107, 'have': 108, \"that's\": 109, 'way': 110, 'then': 111, 'out': 112, 'through': 113, 'king': 114, \"can't\": 115, 'or': 116, 'look': 117, 'feeling': 118, \"i've\": 119, 'big': 120, 'beginning': 121, 'who': 122, 'arms': 123, 'said': 124, 'call': 125, 'half': 126, 'over': 127, 'bombs': 128, 'hard': 129, 'well': 130, 'school': 131, 'new': 132, 'hey': 133, 'day': 134, 'even': 135, 'though': 136, 'gay': 137, 'face': 138, 'head': 139, 'times': 140, 'gotta': 141, 'there': 142, 'here': 143, 'come': 144, 'normal': 145, 'next': 146, 'more': 147, \"there's\": 148, 'whole': 149, \"won't\": 150, 'home': 151, 'its': 152, 'him': 153, 'life': 154, 'crazy': 155, 'gonna': 156, 'easy': 157, '1': 158, \"something's\": 159, 'slim': 160, 'means': 161, 'trouble': 162, 'taking': 163, 'any': 164, '7': 165, 'thinks': 166, 'their': 167, 'long': 168, 'ever': 169, 'since': 170, 'hell': 171, 'kill': 172, 'hip': 173, 'hop': 174, 'wanna': 175, 'same': 176, \"i'll\": 177, 'fact': 178, '24': 179, 'drop': 180, 'rappers': 181, \"here's\": 182, 'shit': 183, \"ain't\": 184, 'everybody': 185, 'rage': 186, 'hit': 187, 'nothing': 188, 'shoot': 189, 'use': 190, 'rhyme': 191, 'full': 192, 'product': 193, 'doc': 194, 'grow': 195, 'meet': 196, 'run': 197, 'them': 198, 'rock': 199, 'hall': 200, 'walk': 201, 'church': 202, 'flames': 203, '47': 204, 'little': 205, 'barely': 206, 'straight': 207, 'yeah': 208, \"i'mma\": 209, 'everything': 210, 'keep': 211, 'nascar': 212, 'asgard': 213, 'mom': 214, 'we': 215, 'rhymes': 216, 'maybe': 217, 'some': 218, 'hungry': 219, 'where': 220, 'mine': 221, 'trying': 222, 'line': 223, 'put': 224, 'nine': 225, 'see': 226, 'coming': 227, 'fucking': 228, 'ray': 229, 'j': 230, 'mad': 231, 'fab': 232, 'uh': 233, 'lamaa': 234, 'anything': 235, 'give': 236, 'songs': 237, 'words': 238, 'verses': 239, 'myself': 240, 'mind': 241, 'satan': 242, 'heavy': 243, 'women': 244, 'had': 245, 'cake': 246, 'mistake': 247, 'her': 248, 'capture': 249, 'yo': 250, 'world': 251, 'grows': 252, 'harder': 253, 'hoes': 254, 'coast': 255, 'father': 256, 'nose': 257, 'cold': 258, 'water': 259, 'old': 260, 'dumb': 261, 'been': 262, 'inside': 263, 'by': 264, 'has': 265, 'wanting': 266, 'blew': 267, 'hurt': 268, 'feelings': 269, '0': 270, 'going': 271, 'wrong': 272, 'six': 273, 'minutes': 274, 'shady': 275, '2': 276, 'about': 277, 'happen': 278, '3': 279, \"we're\": 280, '4': 281, 'bananas': 282, 'chances': 283, '5': 284, 'were': 285, 'doctor': 286, 'ordered': 287, '6': 288, '8': 289, 'robot': 290, 'rapbot': 291, 'computer': 292, 'must': 293, 'genes': 294, '9': 295, 'laptop': 296, 'pocket': 297, '10': 298, \"pen'll\": 299, 'cock': 300, '11': 301, 'fat': 302, 'knot': 303, 'profit': 304, '12': 305, 'living': 306, 'killing': 307, '13': 308, 'bill': 309, 'clinton': 310, 'office': 311, '14': 312, 'monica': 313, 'lewinsky': 314, 'nut': 315, 'sack': 316, '15': 317, 'mc': 318, 'honest': 319, '16': 320, 'rude': 321, 'indecent': 322, 'syllables': 323, 'killaholic': 324, '17': 325, 'slickety': 326, 'gibbedy': 327, 'hibbedy': 328, '18': 329, 'really': 330, 'pissing': 331, 'match': 332, 'rappidy': 333, '19': 334, 'packing': 335, 'mac': 336, 'ac': 337, 'pack': 338, 'backpack': 339, 'yep': 340, 'yackidy': 341, 'yac': 342, '20': 343, 'exact': 344, 'attempt': 345, 'lyrical': 346, 'acrobat': 347, 'stunts': 348, 'practicing': 349, '21': 350, 'able': 351, 'break': 352, 'table': 353, '22': 354, 'couple': 355, 'faggots': 356, 'crack': 357, '23': 358, 'realized': 359, 'ironic': 360, 'signed': 361, 'aftermath': 362, 'after': 363, 'could': 364, 'f': 365, 'wrath': 366, 'attack': 367, '25': 368, 'having': 369, 'rough': 370, 'period': 371, 'maxipad': 372, '26': 373, 'actually': 374, 'disastrously': 375, 'bad': 376, '27': 377, 'wack': 378, 'masterfully': 379, 'constructing': 380, 'masterpiece': 381, '28': 382, '29': 383, '30': 384, 'show': 385, 'maintaining': 386, 'key': 387, 'secret': 388, 'immortality': 389, '31': 390, 'truthful': 391, \"blueprint's\": 392, 'simply': 393, 'youthful': 394, 'exuberance': 395, '32': 396, 'loves': 397, 'root': 398, 'nuisance': 399, '33': 400, 'earth': 401, 'asteroid': 402, 'did': 403, 'moon': 404, '34': 405, \"mc's\": 406, 'taken': 407, '35': 408, 'vehicle': 409, 'bust': 410, '36': 411, 'lead': 412, 'students': 413, '37': 414, 'rakim': 415, 'lakim': 416, 'shabazz': 417, '2pac': 418, 'n': 419, '38': 420, 'w': 421, 'cube': 422, 'ren': 423, 'yella': 424, 'eazy': 425, 'thank': 426, '39': 427, 'inspired': 428, 'position': 429, '40': 430, 'dmc': 431, 'induct': 432, \"n'\": 433, '41': 434, 'roll': 435, '42': 436, 'burst': 437, 'ball': 438, '43': 439, 'inducted': 440, 'alcohol': 441, '44': 442, 'wall': 443, 'shame': 444, '45': 445, 'fags': 446, 'game': 447, \"'til\": 448, 'flock': 449, '46': 450, 'planking': 451, 'tell': 452, 'thinking': 453, '48': 454, '49': 455, 'witnessing': 456, 'massacre': 457, '50': 458, 'watching': 459, 'gathering': 460, 'place': 461, '51': 462, 'oy': 463, 'vey': 464, \"boy's\": 465, '52': 466, 'thumbs': 467, 'pat': 468, '53': 469, 'label': 470, 'everyday': 471, '54': 472, '55': 473, 'dre': 474, '56': 475, 'work': 476, '57': 477, 'ask': 478, 'nobody': 479, 'outta': 480, '58': 481, 'basically': 482, 'capable': 483, '59': 484, 'pace': 485, '60': 486, '61': 487, 'racing': 488, 'around': 489, 'track': 490, '62': 491, 'dale': 492, 'earnhardt': 493, 'trailer': 494, 'park': 495, 'white': 496, 'trash': 497, '63': 498, 'kneel': 499, 'before': 500, 'general': 501, 'zod': 502, \"planet's\": 503, 'krypton': 504, 'thor': 505, 'odin': 506, 'rodent': 507, 'omnipotent': 508, '64': 509, 'reloading': 510, 'immediately': 511, \"totin'\": 512, '65': 513, 'should': 514, 'woken': 515, '66': 516, 'walking': 517, 'dead': 518, 'talking': 519, 'zombie': 520, 'floating': 521, '67': 522, 'deep': 523, 'throating': 524, '68': 525, 'ramen': 526, 'noodle': 527, 'common': 528, 'poodle': 529, '69': 530, 'doberman': 531, 'pinch': 532, 'arm': 533, 'pay': 534, 'homage': 535, 'pupil': 536, '70': 537, \"honesty's\": 538, 'brutal': 539, '71': 540, 'honestly': 541, 'futile': 542, 'utilize': 543, '72': 544, 'good': 545, 'least': 546, '73': 547, 'sure': 548, 'somewhere': 549, 'chicken': 550, 'scratch': 551, 'scribble': 552, 'doodle': 553, '74': 554, 'try': 555, 'help': 556, 'tough': 557, '75': 558, 'few': 559, 'punchlines': 560, 'case': 561, 'unsigned': 562, '76': 563, 'lunchtime': 564, '77': 565, '78': 566, 'underground': 567, 'pharoahe': 568, 'monch': 569, 'grind': 570, '79': 571, 'crunch': 572, 'sometimes': 573, 'combine': 574, '80': 575, 'appeal': 576, 'skin': 577, 'color': 578, '81': 579, '82': 580, 'censor': 581, 'marshall': 582, 'mathers': 583, 'lp': 584, '83': 585, 'tried': 586, 'seven': 587, 'kids': 588, 'columbine': 589, '84': 590, 'add': 591, 'ak': 592, 'revolver': 593, '85': 594, 'away': 595, '86': 596, 'morphed': 597, 'immortal': 598, 'portal': 599, '87': 600, 'stuck': 601, 'warp': 602, '2004': 603, '88': 604, '89': 605, 'pointless': 606, 'rapunzel': 607, 'cornrows': 608, '90': 609, 'being': 610, '91': 611, 'bought': 612, 'raygun': 613, 'future': 614, '92': 615, 'ya': 616, 'fabolous': 617, '93': 618, 'looked': 619, 'fag': 620, \"maywhether's\": 621, 'pad': 622, '94': 623, \"singin'\": 624, 'played': 625, 'piano': 626, '95': 627, 'special': 628, 'cable': 629, 'channel': 630, '96': 631, 'went': 632, 'radio': 633, 'station': 634, 'very': 635, '97': 636, '98': 637, 'lyrics': 638, 'supersonic': 639, 'speed': 640, 'jj': 641, 'fad': 642, '99': 643, 'sama': 644, 'duma': 645, 'assuming': 646, 'human': 647, '100': 648, 'superhuman': 649, '101': 650, 'innovative': 651, 'rubber': 652, '102': 653, 'saying': 654, 'ricocheting': 655, \"it'll\": 656, 'glue': 657, '103': 658, 'stating': 659, 'than': 660, 'demonstrating': 661, '104': 662, 'audience': 663, 'levitating': 664, '105': 665, 'fading': 666, 'haters': 667, 'forever': 668, 'waiting': 669, '106': 670, 'fell': 671, \"they'd\": 672, 'celebrating': 673, '107': 674, 'motivated': 675, '108': 676, 'elevating': 677, 'elevator': 678, '109': 679, 'mainstream': 680, '110': 681, 'jealous': 682, 'confuse': 683, '111': 684, 'pop': 685, 'found': 686, 'hella': 687, 'fuse': 688, '112': 689, 'shock': 690, '113': 691, 'throw': 692, '114': 693, '115': 694, '116': 695, 'occurs': 696, '117': 697, 'ripping': 698, 'diverse': 699, '118': 700, 'curtains': 701, 'inadvertently': 702, \"hurtin'\": 703, '119': 704, 'many': 705, 'murder': 706, '120': 707, 'prove': 708, 'nice': 709, 'sacrifice': 710, 'virgins': 711, '121': 712, 'flunkie': 713, 'pill': 714, 'junky': 715, '122': 716, 'accolades': 717, 'skills': 718, 'brung': 719, '123': 720, '124': 721, 'bully': 722, '125': 723, 'million': 724, 'leagues': 725, 'above': 726, 'ill': 727, 'speak': 728, 'tongues': 729, '126': 730, 'tongue': 731, 'cheek': 732, '127': 733, 'drunk': 734, 'wheel': 735, 'asleep': 736, 'seat': 737, '128': 738, 'bumping': 739, 'd': 740, 'boys': 741, 'chunky': 742, 'funky': 743, '129': 744, 'something': 745, 'tugging': 746, 'struggling': 747, '130': 748, 'angels': 749, 'fight': 750, 'devils': 751, '131': 752, 'asking': 753, 'eliminate': 754, 'hate': 755, '132': 756, 'consideration': 757, 'bitter': 758, 'hatred': 759, '133': 760, 'may': 761, 'patient': 762, 'sympathetic': 763, 'situation': 764, '134': 765, 'understand': 766, 'discrimination': 767, '135': 768, \"life's\": 769, 'handing': 770, 'lemons': 771, 'lemonade': 772, '136': 773, 'batter': 774, 'am': 775, 'supposed': 776, 'bake': 777, '137': 778, '138': 779, 'fatal': 780, 'need': 781, 'overseas': 782, '139': 783, 'vacation': 784, 'trip': 785, 'broad': 786, '140': 787, 'fall': 788, 'retard': 789, '141': 790, 'why': 791, '142': 792, '143': 793, '144': 794, '145': 795, 'seize': 796, '146': 797, '147': 798, 'would': 799, '148': 800, 'slip': 801, '149': 802, 'palms': 803, 'sweaty': 804, 'knees': 805, 'weak': 806, '150': 807, 'vomit': 808, 'sweater': 809, 'already': 810, \"mom's\": 811, 'spaghetti': 812, '151': 813, 'nervous': 814, 'surface': 815, 'looks': 816, 'calm': 817, 'ready': 818, '152': 819, 'keeps': 820, \"forgettin'\": 821, '153': 822, 'wrote': 823, 'down': 824, 'crowd': 825, 'loud': 826, '154': 827, 'opens': 828, 'mouth': 829, '155': 830, \"chokin'\": 831, \"everybody's\": 832, \"jokin'\": 833, '156': 834, 'clocks': 835, 'blaow': 836, '157': 837, 'snap': 838, 'reality': 839, 'gravity': 840, '158': 841, 'rabbit': 842, 'choked': 843, '159': 844, '160': 845, \"city's\": 846, 'ropes': 847, '161': 848, 'matter': 849, 'dope': 850, 'broke': 851, '162': 852, 'stacked': 853, 'mobile': 854, '163': 855, 'lab': 856, 'again': 857, 'rhapsody': 858, '164': 859, 'hope': 860, 'pass': 861, '165': 862, '166': 863, '167': 864, '168': 865, '169': 866, '170': 867, 'souls': 868, 'escaping': 869, 'hole': 870, 'gaping': 871, '171': 872, '172': 873, 'move': 874, 'toward': 875, 'order': 876, '173': 877, \"borin'\": 878, 'super': 879, \"stardom's\": 880, 'close': 881, 'post': 882, 'mortem': 883, '174': 884, 'hotter': 885, '175': 886, 'blows': 887, 'us': 888, '176': 889, 'shows': 890, 'known': 891, 'globetrotter': 892, '177': 893, 'lonely': 894, 'roads': 895, 'grown': 896, 'farther': 897, '178': 898, 'daughter': 899, '179': 900, 'hold': 901, '180': 902, 'mo': 903, '181': 904, 'moved': 905, 'schmo': 906, 'flows': 907, 'dove': 908, 'sold': 909, 'nada': 910, '182': 911, 'soap': 912, 'opera': 913, 'told': 914, 'unfolds': 915, 'suppose': 916, 'partna': 917, 'beat': 918, '183': 919, '184': 920, '185': 921, '186': 922, '187': 923, '188': 924, '189': 925, 'games': 926, 'change': 927, '190': 928, 'tear': 929, 'roof': 930, 'two': 931, 'dogs': 932, 'caged': 933, '191': 934, \"playin'\": 935, \"beginnin'\": 936, 'mood': 937, 'changed': 938, '192': 939, 'chewed': 940, 'spit': 941, 'booed': 942, 'stage': 943, '193': 944, 'kept': 945, \"rhymin'\": 946, \"stepwritin'\": 947, 'cipher': 948, '194': 949, 'best': 950, 'believe': 951, \"somebody's\": 952, \"payin'\": 953, 'pied': 954, 'piper': 955, '195': 956, 'pain': 957, 'amplified': 958, '196': 959, '197': 960, 'five': 961, 'provide': 962, 'right': 963, 'type': 964, '198': 965, 'family': 966, 'damn': 967, 'food': 968, 'stamps': 969, 'buy': 970, 'diapers': 971, '199': 972, 'movie': 973, 'mekhi': 974, 'phifer': 975, '200': 976, '201': 977, 'getting': 978, \"tryin'\": 979, 'feed': 980, 'seed': 981, 'plus': 982, '202': 983, 'dishonor': 984, 'caught': 985, 'between': 986, \"bein'\": 987, 'prima': 988, 'donna': 989, '203': 990, 'baby': 991, 'mama': 992, 'drama': 993, \"screamin'\": 994, 'much': 995, '204': 996, 'spot': 997, 'another': 998, 'jam': 999, '205': 1000, 'gotten': 1001, 'point': 1002, 'snail': 1003, '206': 1004, 'formulate': 1005, 'plot': 1006, 'fore': 1007, 'end': 1008, 'jail': 1009, '207': 1010, 'success': 1011, 'option': 1012, 'failures': 1013, '208': 1014, 'love': 1015, 'trail': 1016, 'cannot': 1017, \"salem's\": 1018, 'lot': 1019, '209': 1020, '210': 1021, 'feet': 1022, 'fail': 1023, '211': 1024, '212': 1025, '213': 1026, '214': 1027, '215': 1028, '216': 1029, 'set': 1030, 'chorus': 1031, 'rihanna': 1032, '217': 1033, 'friends': 1034, 'monster': 1035, '218': 1036, 'under': 1037, 'bed': 1038, '219': 1039, 'along': 1040, 'voices': 1041, '220': 1042, 'save': 1043, '221': 1044, 'stop': 1045, 'holding': 1046, 'breath': 1047, '222': 1048, '223': 1049, 'eminem': 1050, 'verse': 1051, '224': 1052, 'cover': 1053, 'newsweek': 1054, '225': 1055, 'guess': 1056, 'beggers': 1057, 'choosey': 1058, '226': 1059, 'receive': 1060, 'attention': 1061, '227': 1062, 'left': 1063, 'alone': 1064, 'public': 1065, 'excuse': 1066, '228': 1067, 'eat': 1068, '229': 1069, 'both': 1070, 'ways': 1071, '230': 1072, 'balloon': 1073, 'ego': 1074, 'inflated': 1075, '231': 1076, 'seep': 1077, 'confusing': 1078, '232': 1079, 'bruce': 1080, 'lee': 1081, 'loose': 1082, 'leaf': 1083, '233': 1084, 'abused': 1085, 'ink': 1086, 'used': 1087, 'tool': 1088, 'steam': 1089, '234': 1090, 'lottery': 1091, 'wee': 1092, '235': 1093, 'gave': 1094, 'bittersweet': 1095, '236': 1096, 'winning': 1097, 'huge': 1098}\n"
          ]
        }
      ]
    },
    {
      "cell_type": "markdown",
      "source": [
        "# 3. Model Creation"
      ],
      "metadata": {
        "id": "6XOn-GhHv7zP"
      }
    },
    {
      "cell_type": "code",
      "source": [
        "  model = Sequential()\n",
        "  model.add(Embedding(total_words, 64, input_length=max_sequence_len-1))\n",
        "  model.add((LSTM(100)))\n",
        "  #model.add(Dropout(0.2))\n",
        "  #model.add(LSTM(100))\n",
        "  model.add(Dense(total_words, activation='softmax'))\n",
        "  model.compile(loss='categorical_crossentropy', optimizer='adam', metrics=['accuracy'])\n",
        "  history = model.fit(xs, ys, epochs=100, verbose=1)"
      ],
      "metadata": {
        "colab": {
          "base_uri": "https://localhost:8080/"
        },
        "id": "Ar4Z7YySvZI4",
        "outputId": "27ca13a6-c9e3-4891-f19c-068bbccf2ff9"
      },
      "execution_count": null,
      "outputs": [
        {
          "output_type": "stream",
          "name": "stdout",
          "text": [
            "Epoch 1/100\n",
            "86/86 [==============================] - 10s 100ms/step - loss: 6.6199 - accuracy: 0.0252\n",
            "Epoch 2/100\n",
            "86/86 [==============================] - 9s 100ms/step - loss: 6.2029 - accuracy: 0.0281\n",
            "Epoch 3/100\n",
            "86/86 [==============================] - 9s 100ms/step - loss: 6.0883 - accuracy: 0.0321\n",
            "Epoch 4/100\n",
            "86/86 [==============================] - 9s 100ms/step - loss: 5.9768 - accuracy: 0.0303\n",
            "Epoch 5/100\n",
            "86/86 [==============================] - 9s 99ms/step - loss: 5.8797 - accuracy: 0.0296\n",
            "Epoch 6/100\n",
            "86/86 [==============================] - 9s 99ms/step - loss: 5.7797 - accuracy: 0.0413\n",
            "Epoch 7/100\n",
            "86/86 [==============================] - 9s 100ms/step - loss: 5.6696 - accuracy: 0.0471\n",
            "Epoch 8/100\n",
            "86/86 [==============================] - 9s 99ms/step - loss: 5.5561 - accuracy: 0.0522\n",
            "Epoch 9/100\n",
            "86/86 [==============================] - 9s 99ms/step - loss: 5.4224 - accuracy: 0.0690\n",
            "Epoch 10/100\n",
            "86/86 [==============================] - 9s 100ms/step - loss: 5.2951 - accuracy: 0.0737\n",
            "Epoch 11/100\n",
            "86/86 [==============================] - 9s 100ms/step - loss: 5.1588 - accuracy: 0.0821\n",
            "Epoch 12/100\n",
            "86/86 [==============================] - 9s 99ms/step - loss: 5.0246 - accuracy: 0.1051\n",
            "Epoch 13/100\n",
            "86/86 [==============================] - 9s 99ms/step - loss: 4.8839 - accuracy: 0.1249\n",
            "Epoch 14/100\n",
            "86/86 [==============================] - 9s 99ms/step - loss: 4.7349 - accuracy: 0.1402\n",
            "Epoch 15/100\n",
            "86/86 [==============================] - 9s 101ms/step - loss: 4.5905 - accuracy: 0.1508\n",
            "Epoch 16/100\n",
            "86/86 [==============================] - 9s 100ms/step - loss: 4.4426 - accuracy: 0.1731\n",
            "Epoch 17/100\n",
            "86/86 [==============================] - 9s 100ms/step - loss: 4.2972 - accuracy: 0.1975\n",
            "Epoch 18/100\n",
            "86/86 [==============================] - 9s 100ms/step - loss: 4.1504 - accuracy: 0.2066\n",
            "Epoch 19/100\n",
            "86/86 [==============================] - 8s 99ms/step - loss: 4.0079 - accuracy: 0.2209\n",
            "Epoch 20/100\n",
            "86/86 [==============================] - 9s 99ms/step - loss: 3.8624 - accuracy: 0.2417\n",
            "Epoch 21/100\n",
            "86/86 [==============================] - 9s 100ms/step - loss: 3.7229 - accuracy: 0.2567\n",
            "Epoch 22/100\n",
            "86/86 [==============================] - 9s 100ms/step - loss: 3.5849 - accuracy: 0.2808\n",
            "Epoch 23/100\n",
            "86/86 [==============================] - 8s 99ms/step - loss: 3.4441 - accuracy: 0.3034\n",
            "Epoch 24/100\n",
            "86/86 [==============================] - 9s 99ms/step - loss: 3.3052 - accuracy: 0.3231\n",
            "Epoch 25/100\n",
            "86/86 [==============================] - 9s 99ms/step - loss: 3.1707 - accuracy: 0.3618\n",
            "Epoch 26/100\n",
            "86/86 [==============================] - 9s 99ms/step - loss: 3.0414 - accuracy: 0.3943\n",
            "Epoch 27/100\n",
            "86/86 [==============================] - 9s 100ms/step - loss: 2.9062 - accuracy: 0.4239\n",
            "Epoch 28/100\n",
            "86/86 [==============================] - 9s 99ms/step - loss: 2.7778 - accuracy: 0.4618\n",
            "Epoch 29/100\n",
            "86/86 [==============================] - 9s 99ms/step - loss: 2.6507 - accuracy: 0.4965\n",
            "Epoch 30/100\n",
            "86/86 [==============================] - 9s 99ms/step - loss: 2.5255 - accuracy: 0.5257\n",
            "Epoch 31/100\n",
            "86/86 [==============================] - 9s 99ms/step - loss: 2.4061 - accuracy: 0.5539\n",
            "Epoch 32/100\n",
            "86/86 [==============================] - 9s 99ms/step - loss: 2.2872 - accuracy: 0.5820\n",
            "Epoch 33/100\n",
            "86/86 [==============================] - 9s 99ms/step - loss: 2.1742 - accuracy: 0.6097\n",
            "Epoch 34/100\n",
            "86/86 [==============================] - 8s 98ms/step - loss: 2.0620 - accuracy: 0.6400\n",
            "Epoch 35/100\n",
            "86/86 [==============================] - 8s 98ms/step - loss: 1.9546 - accuracy: 0.6605\n",
            "Epoch 36/100\n",
            "86/86 [==============================] - 8s 99ms/step - loss: 1.8501 - accuracy: 0.6878\n",
            "Epoch 37/100\n",
            "86/86 [==============================] - 8s 98ms/step - loss: 1.7510 - accuracy: 0.7127\n",
            "Epoch 38/100\n",
            "86/86 [==============================] - 8s 99ms/step - loss: 1.6539 - accuracy: 0.7386\n",
            "Epoch 39/100\n",
            "86/86 [==============================] - 8s 98ms/step - loss: 1.5607 - accuracy: 0.7594\n",
            "Epoch 40/100\n",
            "86/86 [==============================] - 9s 99ms/step - loss: 1.4725 - accuracy: 0.7722\n",
            "Epoch 41/100\n",
            "86/86 [==============================] - 9s 99ms/step - loss: 1.3880 - accuracy: 0.7904\n",
            "Epoch 42/100\n",
            "86/86 [==============================] - 9s 99ms/step - loss: 1.3107 - accuracy: 0.8160\n",
            "Epoch 43/100\n",
            "86/86 [==============================] - 9s 99ms/step - loss: 1.2356 - accuracy: 0.8251\n",
            "Epoch 44/100\n",
            "86/86 [==============================] - 9s 99ms/step - loss: 1.1627 - accuracy: 0.8430\n",
            "Epoch 45/100\n",
            "86/86 [==============================] - 9s 99ms/step - loss: 1.0950 - accuracy: 0.8554\n",
            "Epoch 46/100\n",
            "86/86 [==============================] - 9s 100ms/step - loss: 1.0331 - accuracy: 0.8627\n",
            "Epoch 47/100\n",
            "86/86 [==============================] - 9s 100ms/step - loss: 0.9688 - accuracy: 0.8806\n",
            "Epoch 48/100\n",
            "86/86 [==============================] - 9s 99ms/step - loss: 0.9126 - accuracy: 0.8956\n",
            "Epoch 49/100\n",
            "86/86 [==============================] - 8s 98ms/step - loss: 0.8587 - accuracy: 0.9025\n",
            "Epoch 50/100\n",
            "86/86 [==============================] - 9s 99ms/step - loss: 0.8070 - accuracy: 0.9120\n",
            "Epoch 51/100\n",
            "86/86 [==============================] - 9s 99ms/step - loss: 0.7605 - accuracy: 0.9175\n",
            "Epoch 52/100\n",
            "86/86 [==============================] - 9s 99ms/step - loss: 0.7161 - accuracy: 0.9266\n",
            "Epoch 53/100\n",
            "86/86 [==============================] - 9s 99ms/step - loss: 0.6716 - accuracy: 0.9332\n",
            "Epoch 54/100\n",
            "86/86 [==============================] - 8s 99ms/step - loss: 0.6351 - accuracy: 0.9409\n",
            "Epoch 55/100\n",
            "86/86 [==============================] - 9s 99ms/step - loss: 0.5961 - accuracy: 0.9438\n",
            "Epoch 56/100\n",
            "86/86 [==============================] - 9s 100ms/step - loss: 0.5617 - accuracy: 0.9482\n",
            "Epoch 57/100\n",
            "86/86 [==============================] - 9s 99ms/step - loss: 0.5291 - accuracy: 0.9514\n",
            "Epoch 58/100\n",
            "86/86 [==============================] - 9s 100ms/step - loss: 0.4995 - accuracy: 0.9522\n",
            "Epoch 59/100\n",
            "86/86 [==============================] - 9s 100ms/step - loss: 0.4704 - accuracy: 0.9591\n",
            "Epoch 60/100\n",
            "86/86 [==============================] - 9s 100ms/step - loss: 0.4447 - accuracy: 0.9628\n",
            "Epoch 61/100\n",
            "86/86 [==============================] - 9s 99ms/step - loss: 0.4188 - accuracy: 0.9620\n",
            "Epoch 62/100\n",
            "86/86 [==============================] - 9s 100ms/step - loss: 0.3964 - accuracy: 0.9701\n",
            "Epoch 63/100\n",
            "86/86 [==============================] - 9s 99ms/step - loss: 0.3723 - accuracy: 0.9671\n",
            "Epoch 64/100\n",
            "86/86 [==============================] - 9s 100ms/step - loss: 0.3510 - accuracy: 0.9715\n",
            "Epoch 65/100\n",
            "86/86 [==============================] - 9s 100ms/step - loss: 0.3344 - accuracy: 0.9733\n",
            "Epoch 66/100\n",
            "86/86 [==============================] - 9s 101ms/step - loss: 0.3126 - accuracy: 0.9766\n",
            "Epoch 67/100\n",
            "86/86 [==============================] - 9s 100ms/step - loss: 0.2961 - accuracy: 0.9788\n",
            "Epoch 68/100\n",
            "86/86 [==============================] - 9s 100ms/step - loss: 0.2794 - accuracy: 0.9781\n",
            "Epoch 69/100\n",
            "86/86 [==============================] - 9s 100ms/step - loss: 0.2641 - accuracy: 0.9817\n",
            "Epoch 70/100\n",
            "86/86 [==============================] - 9s 99ms/step - loss: 0.2502 - accuracy: 0.9806\n",
            "Epoch 71/100\n",
            "86/86 [==============================] - 9s 100ms/step - loss: 0.2360 - accuracy: 0.9814\n",
            "Epoch 72/100\n",
            "86/86 [==============================] - 9s 100ms/step - loss: 0.2232 - accuracy: 0.9836\n",
            "Epoch 73/100\n",
            "86/86 [==============================] - 9s 100ms/step - loss: 0.2109 - accuracy: 0.9836\n",
            "Epoch 74/100\n",
            "86/86 [==============================] - 9s 101ms/step - loss: 0.2000 - accuracy: 0.9854\n",
            "Epoch 75/100\n",
            "86/86 [==============================] - 9s 100ms/step - loss: 0.1886 - accuracy: 0.9858\n",
            "Epoch 76/100\n",
            "86/86 [==============================] - 9s 100ms/step - loss: 0.1787 - accuracy: 0.9869\n",
            "Epoch 77/100\n",
            "86/86 [==============================] - 9s 99ms/step - loss: 0.1695 - accuracy: 0.9865\n",
            "Epoch 78/100\n",
            "86/86 [==============================] - 9s 100ms/step - loss: 0.1598 - accuracy: 0.9898\n",
            "Epoch 79/100\n",
            "86/86 [==============================] - 9s 101ms/step - loss: 0.1519 - accuracy: 0.9901\n",
            "Epoch 80/100\n",
            "86/86 [==============================] - 9s 100ms/step - loss: 0.1438 - accuracy: 0.9898\n",
            "Epoch 81/100\n",
            "86/86 [==============================] - 9s 100ms/step - loss: 0.1373 - accuracy: 0.9901\n",
            "Epoch 82/100\n",
            "86/86 [==============================] - 9s 99ms/step - loss: 0.1294 - accuracy: 0.9909\n",
            "Epoch 83/100\n",
            "86/86 [==============================] - 9s 100ms/step - loss: 0.1229 - accuracy: 0.9916\n",
            "Epoch 84/100\n",
            "86/86 [==============================] - 9s 100ms/step - loss: 0.1172 - accuracy: 0.9923\n",
            "Epoch 85/100\n",
            "86/86 [==============================] - 9s 101ms/step - loss: 0.1111 - accuracy: 0.9920\n",
            "Epoch 86/100\n",
            "86/86 [==============================] - 9s 100ms/step - loss: 0.1057 - accuracy: 0.9934\n",
            "Epoch 87/100\n",
            "86/86 [==============================] - 9s 100ms/step - loss: 0.1003 - accuracy: 0.9931\n",
            "Epoch 88/100\n",
            "86/86 [==============================] - 9s 100ms/step - loss: 0.0958 - accuracy: 0.9934\n",
            "Epoch 89/100\n",
            "86/86 [==============================] - 9s 101ms/step - loss: 0.0913 - accuracy: 0.9931\n",
            "Epoch 90/100\n",
            "86/86 [==============================] - 9s 100ms/step - loss: 0.0876 - accuracy: 0.9942\n",
            "Epoch 91/100\n",
            "86/86 [==============================] - 9s 99ms/step - loss: 0.0829 - accuracy: 0.9931\n",
            "Epoch 92/100\n",
            "86/86 [==============================] - 9s 101ms/step - loss: 0.0795 - accuracy: 0.9934\n",
            "Epoch 93/100\n",
            "86/86 [==============================] - 9s 101ms/step - loss: 0.0756 - accuracy: 0.9931\n",
            "Epoch 94/100\n",
            "86/86 [==============================] - 9s 100ms/step - loss: 0.0719 - accuracy: 0.9942\n",
            "Epoch 95/100\n",
            "86/86 [==============================] - 9s 100ms/step - loss: 0.0690 - accuracy: 0.9934\n",
            "Epoch 96/100\n",
            "86/86 [==============================] - 9s 100ms/step - loss: 0.0662 - accuracy: 0.9934\n",
            "Epoch 97/100\n",
            "86/86 [==============================] - 9s 100ms/step - loss: 0.0630 - accuracy: 0.9942\n",
            "Epoch 98/100\n",
            "86/86 [==============================] - 9s 100ms/step - loss: 0.0606 - accuracy: 0.9938\n",
            "Epoch 99/100\n",
            "86/86 [==============================] - 9s 100ms/step - loss: 0.0579 - accuracy: 0.9945\n",
            "Epoch 100/100\n",
            "86/86 [==============================] - 9s 101ms/step - loss: 0.0551 - accuracy: 0.9945\n"
          ]
        }
      ]
    },
    {
      "cell_type": "markdown",
      "source": [
        "# 4. Ploting the Graph"
      ],
      "metadata": {
        "id": "Hgwq5bKhwAsd"
      }
    },
    {
      "cell_type": "code",
      "source": [
        "import matplotlib.pyplot as plt\n",
        "\n",
        "\n",
        "def plot_graphs(history, string):\n",
        "  plt.plot(history.history[string])\n",
        "  plt.xlabel(\"Epochs\")\n",
        "  plt.ylabel(string)\n",
        "  plt.show()"
      ],
      "metadata": {
        "id": "5L493d4IvZMH"
      },
      "execution_count": null,
      "outputs": []
    },
    {
      "cell_type": "code",
      "source": [
        "plot_graphs(history, 'accuracy')"
      ],
      "metadata": {
        "colab": {
          "base_uri": "https://localhost:8080/",
          "height": 279
        },
        "id": "f_CLfWxjvZOf",
        "outputId": "b0066a7a-8d8e-4987-cf89-a3d290e5ed66"
      },
      "execution_count": null,
      "outputs": [
        {
          "output_type": "display_data",
          "data": {
            "text/plain": [
              "<Figure size 432x288 with 1 Axes>"
            ],
            "image/png": "[encoded data removed]"
          },
          "metadata": {
            "needs_background": "light"
          }
        }
      ]
    },
    {
      "cell_type": "markdown",
      "source": [
        "# 5. Let's Test our Prediction"
      ],
      "metadata": {
        "id": "L-v-x_c0wG3M"
      }
    },
    {
      "cell_type": "code",
      "source": [
        "seed_text = \"All my people from the front\"\n",
        "next_words = 50\n",
        "  \n",
        "for _ in range(next_words):\n",
        "\ttoken_list = tokenizer.texts_to_sequences([seed_text])[0]\n",
        "\ttoken_list = pad_sequences([token_list], maxlen=max_sequence_len-1, padding='pre')\n",
        "\tpredicted = np.argmax(model.predict(token_list, verbose=0),axis=1)\n",
        "\toutput_word = \"\"\n",
        "\tfor word, index in tokenizer.word_index.items():\n",
        "\t\tif index == predicted:\n",
        "\t\t\toutput_word = word\n",
        "\t\t\tbreak\n",
        "\tseed_text += \" \" + output_word\n",
        "print(seed_text)"
      ],
      "metadata": {
        "colab": {
          "base_uri": "https://localhost:8080/"
        },
        "id": "hsKM7SLUvjCf",
        "outputId": "eb3879e8-ad72-4c70-e1c2-4415fd865e68"
      },
      "execution_count": null,
      "outputs": [
        {
          "output_type": "stream",
          "name": "stdout",
          "text": [
            "All my people from the front to you and not to hurt your feelings 0 but i'm only going to get this one chance 1 something's wrong i can feel it six minutes slim shady you're on 2 just a feeling i've got like something's about to happen but i don't know what 3 if that\n"
          ]
        }
      ]
    }
  ]
}